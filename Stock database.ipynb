{
 "cells": [
  {
   "cell_type": "code",
   "execution_count": 25,
   "id": "a5fefd33",
   "metadata": {},
   "outputs": [],
   "source": [
    "import yfinance as yf\n",
    "import pandas as pd\n",
    "from sqlalchemy import create_engine\n",
    "from datetime import timedelta"
   ]
  },
  {
   "cell_type": "code",
   "execution_count": 26,
   "id": "d8f19d14",
   "metadata": {},
   "outputs": [],
   "source": [
    "engine = create_engine('sqlite:///Trading_DB.db')"
   ]
  },
  {
   "cell_type": "code",
   "execution_count": 27,
   "id": "51988b11",
   "metadata": {},
   "outputs": [
    {
     "name": "stdout",
     "output_type": "stream",
     "text": [
      "[*********************100%***********************]  1 of 1 completed\n"
     ]
    }
   ],
   "source": [
    "df= yf.download('ko', start=pd.to_datetime('today') -timedelta(7), interval='1m')"
   ]
  },
  {
   "cell_type": "code",
   "execution_count": 28,
   "id": "dd487fa3",
   "metadata": {},
   "outputs": [
    {
     "ename": "ValueError",
     "evalue": "Table 'KO_1min' already exists.",
     "output_type": "error",
     "traceback": [
      "\u001b[1;31m---------------------------------------------------------------------------\u001b[0m",
      "\u001b[1;31mValueError\u001b[0m                                Traceback (most recent call last)",
      "\u001b[1;32m<ipython-input-28-56bbfd06d190>\u001b[0m in \u001b[0;36m<module>\u001b[1;34m\u001b[0m\n\u001b[1;32m----> 1\u001b[1;33m \u001b[0mdf\u001b[0m\u001b[1;33m.\u001b[0m\u001b[0mto_sql\u001b[0m\u001b[1;33m(\u001b[0m\u001b[1;34m'KO_1min'\u001b[0m\u001b[1;33m,\u001b[0m\u001b[0mengine\u001b[0m\u001b[1;33m)\u001b[0m\u001b[1;33m\u001b[0m\u001b[1;33m\u001b[0m\u001b[0m\n\u001b[0m",
      "\u001b[1;32m~\\anaconda3\\lib\\site-packages\\pandas\\core\\generic.py\u001b[0m in \u001b[0;36mto_sql\u001b[1;34m(self, name, con, schema, if_exists, index, index_label, chunksize, dtype, method)\u001b[0m\n\u001b[0;32m   2777\u001b[0m         \u001b[1;32mfrom\u001b[0m \u001b[0mpandas\u001b[0m\u001b[1;33m.\u001b[0m\u001b[0mio\u001b[0m \u001b[1;32mimport\u001b[0m \u001b[0msql\u001b[0m\u001b[1;33m\u001b[0m\u001b[1;33m\u001b[0m\u001b[0m\n\u001b[0;32m   2778\u001b[0m \u001b[1;33m\u001b[0m\u001b[0m\n\u001b[1;32m-> 2779\u001b[1;33m         sql.to_sql(\n\u001b[0m\u001b[0;32m   2780\u001b[0m             \u001b[0mself\u001b[0m\u001b[1;33m,\u001b[0m\u001b[1;33m\u001b[0m\u001b[1;33m\u001b[0m\u001b[0m\n\u001b[0;32m   2781\u001b[0m             \u001b[0mname\u001b[0m\u001b[1;33m,\u001b[0m\u001b[1;33m\u001b[0m\u001b[1;33m\u001b[0m\u001b[0m\n",
      "\u001b[1;32m~\\anaconda3\\lib\\site-packages\\pandas\\io\\sql.py\u001b[0m in \u001b[0;36mto_sql\u001b[1;34m(frame, name, con, schema, if_exists, index, index_label, chunksize, dtype, method)\u001b[0m\n\u001b[0;32m    599\u001b[0m         )\n\u001b[0;32m    600\u001b[0m \u001b[1;33m\u001b[0m\u001b[0m\n\u001b[1;32m--> 601\u001b[1;33m     pandas_sql.to_sql(\n\u001b[0m\u001b[0;32m    602\u001b[0m         \u001b[0mframe\u001b[0m\u001b[1;33m,\u001b[0m\u001b[1;33m\u001b[0m\u001b[1;33m\u001b[0m\u001b[0m\n\u001b[0;32m    603\u001b[0m         \u001b[0mname\u001b[0m\u001b[1;33m,\u001b[0m\u001b[1;33m\u001b[0m\u001b[1;33m\u001b[0m\u001b[0m\n",
      "\u001b[1;32m~\\anaconda3\\lib\\site-packages\\pandas\\io\\sql.py\u001b[0m in \u001b[0;36mto_sql\u001b[1;34m(self, frame, name, if_exists, index, index_label, schema, chunksize, dtype, method)\u001b[0m\n\u001b[0;32m   1404\u001b[0m             \u001b[0mdtype\u001b[0m\u001b[1;33m=\u001b[0m\u001b[0mdtype\u001b[0m\u001b[1;33m,\u001b[0m\u001b[1;33m\u001b[0m\u001b[1;33m\u001b[0m\u001b[0m\n\u001b[0;32m   1405\u001b[0m         )\n\u001b[1;32m-> 1406\u001b[1;33m         \u001b[0mtable\u001b[0m\u001b[1;33m.\u001b[0m\u001b[0mcreate\u001b[0m\u001b[1;33m(\u001b[0m\u001b[1;33m)\u001b[0m\u001b[1;33m\u001b[0m\u001b[1;33m\u001b[0m\u001b[0m\n\u001b[0m\u001b[0;32m   1407\u001b[0m \u001b[1;33m\u001b[0m\u001b[0m\n\u001b[0;32m   1408\u001b[0m         \u001b[1;32mfrom\u001b[0m \u001b[0msqlalchemy\u001b[0m \u001b[1;32mimport\u001b[0m \u001b[0mexc\u001b[0m\u001b[1;33m\u001b[0m\u001b[1;33m\u001b[0m\u001b[0m\n",
      "\u001b[1;32m~\\anaconda3\\lib\\site-packages\\pandas\\io\\sql.py\u001b[0m in \u001b[0;36mcreate\u001b[1;34m(self)\u001b[0m\n\u001b[0;32m    736\u001b[0m         \u001b[1;32mif\u001b[0m \u001b[0mself\u001b[0m\u001b[1;33m.\u001b[0m\u001b[0mexists\u001b[0m\u001b[1;33m(\u001b[0m\u001b[1;33m)\u001b[0m\u001b[1;33m:\u001b[0m\u001b[1;33m\u001b[0m\u001b[1;33m\u001b[0m\u001b[0m\n\u001b[0;32m    737\u001b[0m             \u001b[1;32mif\u001b[0m \u001b[0mself\u001b[0m\u001b[1;33m.\u001b[0m\u001b[0mif_exists\u001b[0m \u001b[1;33m==\u001b[0m \u001b[1;34m\"fail\"\u001b[0m\u001b[1;33m:\u001b[0m\u001b[1;33m\u001b[0m\u001b[1;33m\u001b[0m\u001b[0m\n\u001b[1;32m--> 738\u001b[1;33m                 \u001b[1;32mraise\u001b[0m \u001b[0mValueError\u001b[0m\u001b[1;33m(\u001b[0m\u001b[1;34mf\"Table '{self.name}' already exists.\"\u001b[0m\u001b[1;33m)\u001b[0m\u001b[1;33m\u001b[0m\u001b[1;33m\u001b[0m\u001b[0m\n\u001b[0m\u001b[0;32m    739\u001b[0m             \u001b[1;32melif\u001b[0m \u001b[0mself\u001b[0m\u001b[1;33m.\u001b[0m\u001b[0mif_exists\u001b[0m \u001b[1;33m==\u001b[0m \u001b[1;34m\"replace\"\u001b[0m\u001b[1;33m:\u001b[0m\u001b[1;33m\u001b[0m\u001b[1;33m\u001b[0m\u001b[0m\n\u001b[0;32m    740\u001b[0m                 \u001b[0mself\u001b[0m\u001b[1;33m.\u001b[0m\u001b[0mpd_sql\u001b[0m\u001b[1;33m.\u001b[0m\u001b[0mdrop_table\u001b[0m\u001b[1;33m(\u001b[0m\u001b[0mself\u001b[0m\u001b[1;33m.\u001b[0m\u001b[0mname\u001b[0m\u001b[1;33m,\u001b[0m \u001b[0mself\u001b[0m\u001b[1;33m.\u001b[0m\u001b[0mschema\u001b[0m\u001b[1;33m)\u001b[0m\u001b[1;33m\u001b[0m\u001b[1;33m\u001b[0m\u001b[0m\n",
      "\u001b[1;31mValueError\u001b[0m: Table 'KO_1min' already exists."
     ]
    }
   ],
   "source": [
    "df.to_sql('KO_1min',engine)"
   ]
  },
  {
   "cell_type": "code",
   "execution_count": 29,
   "id": "df34ba3a",
   "metadata": {},
   "outputs": [],
   "source": [
    "max_date = pd.read_sql('select max(Datetime) from KO_1min', engine).values[0][0]"
   ]
  },
  {
   "cell_type": "code",
   "execution_count": 30,
   "id": "c76fc427",
   "metadata": {
    "scrolled": true
   },
   "outputs": [
    {
     "data": {
      "text/plain": [
       "'2023-08-14 16:00:00.000000'"
      ]
     },
     "execution_count": 30,
     "metadata": {},
     "output_type": "execute_result"
    }
   ],
   "source": [
    "max_date "
   ]
  },
  {
   "cell_type": "markdown",
   "id": "19c2be38",
   "metadata": {},
   "source": []
  },
  {
   "cell_type": "code",
   "execution_count": 31,
   "id": "cbf35f85",
   "metadata": {},
   "outputs": [],
   "source": [
    "new_rows = df[df.index>max_date]"
   ]
  },
  {
   "cell_type": "code",
   "execution_count": 32,
   "id": "5fcb05c7",
   "metadata": {},
   "outputs": [
    {
     "data": {
      "text/plain": [
       "108"
      ]
     },
     "execution_count": 32,
     "metadata": {},
     "output_type": "execute_result"
    }
   ],
   "source": [
    "len(new_rows)"
   ]
  },
  {
   "cell_type": "code",
   "execution_count": 33,
   "id": "818004e3",
   "metadata": {},
   "outputs": [
    {
     "name": "stdout",
     "output_type": "stream",
     "text": [
      "108 rows have been imported\n"
     ]
    }
   ],
   "source": [
    "new_rows.to_sql('KO_1min',engine, if_exists='append')\n",
    "print(str(len(new_rows)) +' rows have been imported')"
   ]
  },
  {
   "cell_type": "code",
   "execution_count": 10,
   "id": "7b518a78",
   "metadata": {},
   "outputs": [
    {
     "data": {
      "text/html": [
       "<div>\n",
       "<style scoped>\n",
       "    .dataframe tbody tr th:only-of-type {\n",
       "        vertical-align: middle;\n",
       "    }\n",
       "\n",
       "    .dataframe tbody tr th {\n",
       "        vertical-align: top;\n",
       "    }\n",
       "\n",
       "    .dataframe thead th {\n",
       "        text-align: right;\n",
       "    }\n",
       "</style>\n",
       "<table border=\"1\" class=\"dataframe\">\n",
       "  <thead>\n",
       "    <tr style=\"text-align: right;\">\n",
       "      <th></th>\n",
       "      <th>Datetime</th>\n",
       "      <th>Open</th>\n",
       "      <th>High</th>\n",
       "      <th>Low</th>\n",
       "      <th>Close</th>\n",
       "      <th>Adj Close</th>\n",
       "      <th>Volume</th>\n",
       "    </tr>\n",
       "  </thead>\n",
       "  <tbody>\n",
       "    <tr>\n",
       "      <th>0</th>\n",
       "      <td>2023-08-08 09:30:00.000000</td>\n",
       "      <td>61.189999</td>\n",
       "      <td>61.349998</td>\n",
       "      <td>61.150101</td>\n",
       "      <td>61.314999</td>\n",
       "      <td>61.314999</td>\n",
       "      <td>258077</td>\n",
       "    </tr>\n",
       "    <tr>\n",
       "      <th>1</th>\n",
       "      <td>2023-08-08 09:31:00.000000</td>\n",
       "      <td>61.340000</td>\n",
       "      <td>61.340000</td>\n",
       "      <td>61.160000</td>\n",
       "      <td>61.169998</td>\n",
       "      <td>61.169998</td>\n",
       "      <td>21711</td>\n",
       "    </tr>\n",
       "    <tr>\n",
       "      <th>2</th>\n",
       "      <td>2023-08-08 09:32:00.000000</td>\n",
       "      <td>61.209999</td>\n",
       "      <td>61.228901</td>\n",
       "      <td>61.160000</td>\n",
       "      <td>61.228901</td>\n",
       "      <td>61.228901</td>\n",
       "      <td>22407</td>\n",
       "    </tr>\n",
       "    <tr>\n",
       "      <th>3</th>\n",
       "      <td>2023-08-08 09:33:00.000000</td>\n",
       "      <td>61.230000</td>\n",
       "      <td>61.250000</td>\n",
       "      <td>61.200001</td>\n",
       "      <td>61.209999</td>\n",
       "      <td>61.209999</td>\n",
       "      <td>10871</td>\n",
       "    </tr>\n",
       "    <tr>\n",
       "      <th>4</th>\n",
       "      <td>2023-08-08 09:34:00.000000</td>\n",
       "      <td>61.209999</td>\n",
       "      <td>61.250000</td>\n",
       "      <td>61.189999</td>\n",
       "      <td>61.209202</td>\n",
       "      <td>61.209202</td>\n",
       "      <td>28001</td>\n",
       "    </tr>\n",
       "    <tr>\n",
       "      <th>...</th>\n",
       "      <td>...</td>\n",
       "      <td>...</td>\n",
       "      <td>...</td>\n",
       "      <td>...</td>\n",
       "      <td>...</td>\n",
       "      <td>...</td>\n",
       "      <td>...</td>\n",
       "    </tr>\n",
       "    <tr>\n",
       "      <th>1944</th>\n",
       "      <td>2023-08-14 15:56:00.000000</td>\n",
       "      <td>60.849998</td>\n",
       "      <td>60.860001</td>\n",
       "      <td>60.840000</td>\n",
       "      <td>60.860001</td>\n",
       "      <td>60.860001</td>\n",
       "      <td>29715</td>\n",
       "    </tr>\n",
       "    <tr>\n",
       "      <th>1945</th>\n",
       "      <td>2023-08-14 15:57:00.000000</td>\n",
       "      <td>60.860001</td>\n",
       "      <td>60.889999</td>\n",
       "      <td>60.860001</td>\n",
       "      <td>60.884998</td>\n",
       "      <td>60.884998</td>\n",
       "      <td>58104</td>\n",
       "    </tr>\n",
       "    <tr>\n",
       "      <th>1946</th>\n",
       "      <td>2023-08-14 15:58:00.000000</td>\n",
       "      <td>60.884998</td>\n",
       "      <td>60.889999</td>\n",
       "      <td>60.869999</td>\n",
       "      <td>60.880001</td>\n",
       "      <td>60.880001</td>\n",
       "      <td>87396</td>\n",
       "    </tr>\n",
       "    <tr>\n",
       "      <th>1947</th>\n",
       "      <td>2023-08-14 15:59:00.000000</td>\n",
       "      <td>60.880001</td>\n",
       "      <td>60.900002</td>\n",
       "      <td>60.849998</td>\n",
       "      <td>60.880001</td>\n",
       "      <td>60.880001</td>\n",
       "      <td>234257</td>\n",
       "    </tr>\n",
       "    <tr>\n",
       "      <th>1948</th>\n",
       "      <td>2023-08-14 16:00:00.000000</td>\n",
       "      <td>60.880001</td>\n",
       "      <td>60.880001</td>\n",
       "      <td>60.880001</td>\n",
       "      <td>60.880001</td>\n",
       "      <td>60.880001</td>\n",
       "      <td>0</td>\n",
       "    </tr>\n",
       "  </tbody>\n",
       "</table>\n",
       "<p>1949 rows × 7 columns</p>\n",
       "</div>"
      ],
      "text/plain": [
       "                        Datetime       Open       High        Low      Close  \\\n",
       "0     2023-08-08 09:30:00.000000  61.189999  61.349998  61.150101  61.314999   \n",
       "1     2023-08-08 09:31:00.000000  61.340000  61.340000  61.160000  61.169998   \n",
       "2     2023-08-08 09:32:00.000000  61.209999  61.228901  61.160000  61.228901   \n",
       "3     2023-08-08 09:33:00.000000  61.230000  61.250000  61.200001  61.209999   \n",
       "4     2023-08-08 09:34:00.000000  61.209999  61.250000  61.189999  61.209202   \n",
       "...                          ...        ...        ...        ...        ...   \n",
       "1944  2023-08-14 15:56:00.000000  60.849998  60.860001  60.840000  60.860001   \n",
       "1945  2023-08-14 15:57:00.000000  60.860001  60.889999  60.860001  60.884998   \n",
       "1946  2023-08-14 15:58:00.000000  60.884998  60.889999  60.869999  60.880001   \n",
       "1947  2023-08-14 15:59:00.000000  60.880001  60.900002  60.849998  60.880001   \n",
       "1948  2023-08-14 16:00:00.000000  60.880001  60.880001  60.880001  60.880001   \n",
       "\n",
       "      Adj Close  Volume  \n",
       "0     61.314999  258077  \n",
       "1     61.169998   21711  \n",
       "2     61.228901   22407  \n",
       "3     61.209999   10871  \n",
       "4     61.209202   28001  \n",
       "...         ...     ...  \n",
       "1944  60.860001   29715  \n",
       "1945  60.884998   58104  \n",
       "1946  60.880001   87396  \n",
       "1947  60.880001  234257  \n",
       "1948  60.880001       0  \n",
       "\n",
       "[1949 rows x 7 columns]"
      ]
     },
     "execution_count": 10,
     "metadata": {},
     "output_type": "execute_result"
    }
   ],
   "source": [
    "pd.read_sql('select* from KO_1min', engine)"
   ]
  }
 ],
 "metadata": {
  "kernelspec": {
   "display_name": "Python 3",
   "language": "python",
   "name": "python3"
  },
  "language_info": {
   "codemirror_mode": {
    "name": "ipython",
    "version": 3
   },
   "file_extension": ".py",
   "mimetype": "text/x-python",
   "name": "python",
   "nbconvert_exporter": "python",
   "pygments_lexer": "ipython3",
   "version": "3.8.8"
  }
 },
 "nbformat": 4,
 "nbformat_minor": 5
}
