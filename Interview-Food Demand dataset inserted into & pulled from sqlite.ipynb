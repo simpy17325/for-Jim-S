{
 "cells": [
  {
   "cell_type": "code",
   "execution_count": 61,
   "id": "1ddb048c",
   "metadata": {},
   "outputs": [],
   "source": [
    "import pandas as pd\n",
    "import numpy as np\n",
    "import os as os\n",
    "from sqlalchemy import create_engine\n",
    "from datetime import timedelta\n",
    "train=pd.read_csv(\"train.csv\")\n",
    "fulfilment=pd.read_csv('fulfilment_center_info.csv')\n",
    "meal_info=pd.read_csv('meal_info.csv')\n",
    "engine = create_engine('sqlite:///FoodDemand.db')\n",
    "\n"
   ]
  },
  {
   "cell_type": "code",
   "execution_count": 62,
   "id": "43d47b0d",
   "metadata": {},
   "outputs": [],
   "source": [
    "## Have to comment out after first run or will always produce an error that table already exsists.\n",
    "#train.to_sql('FoodDemand_sales',engine)\n",
    "#meal_info.to_sql('FoodDemand_mealinfo',engine)\n",
    "#fulfilment.to_sql('FoodDemand_fulfilment',engine)\n"
   ]
  },
  {
   "cell_type": "code",
   "execution_count": 63,
   "id": "a3e8c410",
   "metadata": {},
   "outputs": [
    {
     "name": "stdout",
     "output_type": "stream",
     "text": [
      "<class 'pandas.core.frame.DataFrame'>\n",
      "RangeIndex: 51 entries, 0 to 50\n",
      "Data columns (total 3 columns):\n",
      " #   Column    Non-Null Count  Dtype \n",
      "---  ------    --------------  ----- \n",
      " 0   meal_id   51 non-null     int64 \n",
      " 1   category  51 non-null     object\n",
      " 2   cuisine   51 non-null     object\n",
      "dtypes: int64(1), object(2)\n",
      "memory usage: 1.3+ KB\n"
     ]
    }
   ],
   "source": [
    "meal_info.info()"
   ]
  },
  {
   "cell_type": "code",
   "execution_count": 64,
   "id": "a9524e1d",
   "metadata": {},
   "outputs": [
    {
     "name": "stdout",
     "output_type": "stream",
     "text": [
      "<class 'pandas.core.frame.DataFrame'>\n",
      "RangeIndex: 51 entries, 0 to 50\n",
      "Data columns (total 4 columns):\n",
      " #   Column    Non-Null Count  Dtype \n",
      "---  ------    --------------  ----- \n",
      " 0   index     51 non-null     int64 \n",
      " 1   meal_id   51 non-null     int64 \n",
      " 2   category  51 non-null     object\n",
      " 3   cuisine   51 non-null     object\n",
      "dtypes: int64(2), object(2)\n",
      "memory usage: 1.7+ KB\n"
     ]
    }
   ],
   "source": [
    "x=pd.read_sql_query('select * from FoodDemand_mealinfo', engine)\n",
    "x.info()"
   ]
  },
  {
   "cell_type": "code",
   "execution_count": 65,
   "id": "e50cdad2",
   "metadata": {},
   "outputs": [
    {
     "name": "stdout",
     "output_type": "stream",
     "text": [
      "<class 'pandas.core.frame.DataFrame'>\n",
      "RangeIndex: 456548 entries, 0 to 456547\n",
      "Data columns (total 10 columns):\n",
      " #   Column                 Non-Null Count   Dtype  \n",
      "---  ------                 --------------   -----  \n",
      " 0   index                  456548 non-null  int64  \n",
      " 1   id                     456548 non-null  int64  \n",
      " 2   week                   456548 non-null  int64  \n",
      " 3   center_id              456548 non-null  int64  \n",
      " 4   meal_id                456548 non-null  int64  \n",
      " 5   checkout_price         456548 non-null  float64\n",
      " 6   base_price             456548 non-null  float64\n",
      " 7   emailer_for_promotion  456548 non-null  int64  \n",
      " 8   homepage_featured      456548 non-null  int64  \n",
      " 9   num_orders             456548 non-null  int64  \n",
      "dtypes: float64(2), int64(8)\n",
      "memory usage: 34.8 MB\n"
     ]
    }
   ],
   "source": [
    "y=pd.read_sql('select * from FoodDemand_sales', engine)\n",
    "y.info()"
   ]
  },
  {
   "cell_type": "code",
   "execution_count": 67,
   "id": "a864e391",
   "metadata": {},
   "outputs": [
    {
     "data": {
      "text/html": [
       "<div>\n",
       "<style scoped>\n",
       "    .dataframe tbody tr th:only-of-type {\n",
       "        vertical-align: middle;\n",
       "    }\n",
       "\n",
       "    .dataframe tbody tr th {\n",
       "        vertical-align: top;\n",
       "    }\n",
       "\n",
       "    .dataframe thead th {\n",
       "        text-align: right;\n",
       "    }\n",
       "</style>\n",
       "<table border=\"1\" class=\"dataframe\">\n",
       "  <thead>\n",
       "    <tr style=\"text-align: right;\">\n",
       "      <th></th>\n",
       "      <th>index</th>\n",
       "      <th>id</th>\n",
       "      <th>week</th>\n",
       "      <th>center_id</th>\n",
       "      <th>meal_id</th>\n",
       "      <th>checkout_price</th>\n",
       "      <th>base_price</th>\n",
       "      <th>emailer_for_promotion</th>\n",
       "      <th>homepage_featured</th>\n",
       "      <th>num_orders</th>\n",
       "    </tr>\n",
       "  </thead>\n",
       "  <tbody>\n",
       "    <tr>\n",
       "      <th>0</th>\n",
       "      <td>7</td>\n",
       "      <td>1499955</td>\n",
       "      <td>1</td>\n",
       "      <td>55</td>\n",
       "      <td>1062</td>\n",
       "      <td>182.36</td>\n",
       "      <td>183.36</td>\n",
       "      <td>0</td>\n",
       "      <td>0</td>\n",
       "      <td>391</td>\n",
       "    </tr>\n",
       "    <tr>\n",
       "      <th>1</th>\n",
       "      <td>40</td>\n",
       "      <td>1351400</td>\n",
       "      <td>1</td>\n",
       "      <td>24</td>\n",
       "      <td>1062</td>\n",
       "      <td>184.36</td>\n",
       "      <td>182.36</td>\n",
       "      <td>0</td>\n",
       "      <td>0</td>\n",
       "      <td>514</td>\n",
       "    </tr>\n",
       "    <tr>\n",
       "      <th>2</th>\n",
       "      <td>84</td>\n",
       "      <td>1057835</td>\n",
       "      <td>1</td>\n",
       "      <td>11</td>\n",
       "      <td>1062</td>\n",
       "      <td>184.36</td>\n",
       "      <td>182.36</td>\n",
       "      <td>0</td>\n",
       "      <td>0</td>\n",
       "      <td>798</td>\n",
       "    </tr>\n",
       "    <tr>\n",
       "      <th>3</th>\n",
       "      <td>125</td>\n",
       "      <td>1231510</td>\n",
       "      <td>1</td>\n",
       "      <td>83</td>\n",
       "      <td>1062</td>\n",
       "      <td>170.78</td>\n",
       "      <td>170.78</td>\n",
       "      <td>0</td>\n",
       "      <td>0</td>\n",
       "      <td>284</td>\n",
       "    </tr>\n",
       "    <tr>\n",
       "      <th>4</th>\n",
       "      <td>164</td>\n",
       "      <td>1402151</td>\n",
       "      <td>1</td>\n",
       "      <td>32</td>\n",
       "      <td>1062</td>\n",
       "      <td>175.60</td>\n",
       "      <td>174.60</td>\n",
       "      <td>0</td>\n",
       "      <td>0</td>\n",
       "      <td>256</td>\n",
       "    </tr>\n",
       "  </tbody>\n",
       "</table>\n",
       "</div>"
      ],
      "text/plain": [
       "   index       id  week  center_id  meal_id  checkout_price  base_price  \\\n",
       "0      7  1499955     1         55     1062          182.36      183.36   \n",
       "1     40  1351400     1         24     1062          184.36      182.36   \n",
       "2     84  1057835     1         11     1062          184.36      182.36   \n",
       "3    125  1231510     1         83     1062          170.78      170.78   \n",
       "4    164  1402151     1         32     1062          175.60      174.60   \n",
       "\n",
       "   emailer_for_promotion  homepage_featured  num_orders  \n",
       "0                      0                  0         391  \n",
       "1                      0                  0         514  \n",
       "2                      0                  0         798  \n",
       "3                      0                  0         284  \n",
       "4                      0                  0         256  "
      ]
     },
     "execution_count": 67,
     "metadata": {},
     "output_type": "execute_result"
    }
   ],
   "source": [
    "meal1062=pd.read_sql('select * from FoodDemand_sales WHERE meal_id = 1062', engine)\n",
    "meal1062.head()\n"
   ]
  },
  {
   "cell_type": "code",
   "execution_count": 69,
   "id": "8fa2fd8c",
   "metadata": {},
   "outputs": [
    {
     "data": {
      "text/html": [
       "<div>\n",
       "<style scoped>\n",
       "    .dataframe tbody tr th:only-of-type {\n",
       "        vertical-align: middle;\n",
       "    }\n",
       "\n",
       "    .dataframe tbody tr th {\n",
       "        vertical-align: top;\n",
       "    }\n",
       "\n",
       "    .dataframe thead th {\n",
       "        text-align: right;\n",
       "    }\n",
       "</style>\n",
       "<table border=\"1\" class=\"dataframe\">\n",
       "  <thead>\n",
       "    <tr style=\"text-align: right;\">\n",
       "      <th>meal_id</th>\n",
       "      <th>1062</th>\n",
       "    </tr>\n",
       "    <tr>\n",
       "      <th>week</th>\n",
       "      <th></th>\n",
       "    </tr>\n",
       "  </thead>\n",
       "  <tbody>\n",
       "    <tr>\n",
       "      <th>1</th>\n",
       "      <td>28943</td>\n",
       "    </tr>\n",
       "    <tr>\n",
       "      <th>2</th>\n",
       "      <td>26695</td>\n",
       "    </tr>\n",
       "    <tr>\n",
       "      <th>3</th>\n",
       "      <td>27844</td>\n",
       "    </tr>\n",
       "    <tr>\n",
       "      <th>4</th>\n",
       "      <td>31144</td>\n",
       "    </tr>\n",
       "    <tr>\n",
       "      <th>5</th>\n",
       "      <td>29324</td>\n",
       "    </tr>\n",
       "    <tr>\n",
       "      <th>...</th>\n",
       "      <td>...</td>\n",
       "    </tr>\n",
       "    <tr>\n",
       "      <th>141</th>\n",
       "      <td>32729</td>\n",
       "    </tr>\n",
       "    <tr>\n",
       "      <th>142</th>\n",
       "      <td>34990</td>\n",
       "    </tr>\n",
       "    <tr>\n",
       "      <th>143</th>\n",
       "      <td>37333</td>\n",
       "    </tr>\n",
       "    <tr>\n",
       "      <th>144</th>\n",
       "      <td>35981</td>\n",
       "    </tr>\n",
       "    <tr>\n",
       "      <th>145</th>\n",
       "      <td>36144</td>\n",
       "    </tr>\n",
       "  </tbody>\n",
       "</table>\n",
       "<p>145 rows × 1 columns</p>\n",
       "</div>"
      ],
      "text/plain": [
       "meal_id   1062\n",
       "week          \n",
       "1        28943\n",
       "2        26695\n",
       "3        27844\n",
       "4        31144\n",
       "5        29324\n",
       "...        ...\n",
       "141      32729\n",
       "142      34990\n",
       "143      37333\n",
       "144      35981\n",
       "145      36144\n",
       "\n",
       "[145 rows x 1 columns]"
      ]
     },
     "execution_count": 69,
     "metadata": {},
     "output_type": "execute_result"
    }
   ],
   "source": [
    "pd.crosstab(meal1062.week, meal1062.meal_id, values=meal1062.num_orders, aggfunc='sum')"
   ]
  },
  {
   "cell_type": "code",
   "execution_count": null,
   "id": "e802c1bd",
   "metadata": {},
   "outputs": [],
   "source": []
  }
 ],
 "metadata": {
  "kernelspec": {
   "display_name": "Python 3",
   "language": "python",
   "name": "python3"
  },
  "language_info": {
   "codemirror_mode": {
    "name": "ipython",
    "version": 3
   },
   "file_extension": ".py",
   "mimetype": "text/x-python",
   "name": "python",
   "nbconvert_exporter": "python",
   "pygments_lexer": "ipython3",
   "version": "3.8.8"
  }
 },
 "nbformat": 4,
 "nbformat_minor": 5
}
