{
 "cells": [
  {
   "cell_type": "code",
   "execution_count": 12,
   "id": "08afda41",
   "metadata": {},
   "outputs": [],
   "source": [
    "import pandas as pd\n",
    "import matplotlib.pyplot as plot\n",
    "import statsmodels.api as stats\n",
    "import numpy as np"
   ]
  },
  {
   "cell_type": "code",
   "execution_count": 13,
   "id": "ff5737bd",
   "metadata": {},
   "outputs": [
    {
     "data": {
      "text/html": [
       "<div>\n",
       "<style scoped>\n",
       "    .dataframe tbody tr th:only-of-type {\n",
       "        vertical-align: middle;\n",
       "    }\n",
       "\n",
       "    .dataframe tbody tr th {\n",
       "        vertical-align: top;\n",
       "    }\n",
       "\n",
       "    .dataframe thead th {\n",
       "        text-align: right;\n",
       "    }\n",
       "</style>\n",
       "<table border=\"1\" class=\"dataframe\">\n",
       "  <thead>\n",
       "    <tr style=\"text-align: right;\">\n",
       "      <th></th>\n",
       "      <th>claims</th>\n",
       "      <th>payment</th>\n",
       "    </tr>\n",
       "  </thead>\n",
       "  <tbody>\n",
       "    <tr>\n",
       "      <th>0</th>\n",
       "      <td>108</td>\n",
       "      <td>392.5</td>\n",
       "    </tr>\n",
       "    <tr>\n",
       "      <th>1</th>\n",
       "      <td>19</td>\n",
       "      <td>46.2</td>\n",
       "    </tr>\n",
       "    <tr>\n",
       "      <th>2</th>\n",
       "      <td>13</td>\n",
       "      <td>15.7</td>\n",
       "    </tr>\n",
       "    <tr>\n",
       "      <th>3</th>\n",
       "      <td>124</td>\n",
       "      <td>422.2</td>\n",
       "    </tr>\n",
       "    <tr>\n",
       "      <th>4</th>\n",
       "      <td>40</td>\n",
       "      <td>119.4</td>\n",
       "    </tr>\n",
       "  </tbody>\n",
       "</table>\n",
       "</div>"
      ],
      "text/plain": [
       "   claims  payment\n",
       "0     108    392.5\n",
       "1      19     46.2\n",
       "2      13     15.7\n",
       "3     124    422.2\n",
       "4      40    119.4"
      ]
     },
     "execution_count": 13,
     "metadata": {},
     "output_type": "execute_result"
    }
   ],
   "source": [
    "insurance_df = pd.read_csv(r\"C:\\Users\\dnsim\\OneDrive\\Documents\\Finance\\auto_insurance_sweden.csv\")\n",
    "insurance_df.head()"
   ]
  },
  {
   "cell_type": "code",
   "execution_count": 14,
   "id": "0c6c6ad0",
   "metadata": {},
   "outputs": [
    {
     "data": {
      "text/plain": [
       "(63, 2)"
      ]
     },
     "execution_count": 14,
     "metadata": {},
     "output_type": "execute_result"
    }
   ],
   "source": [
    "insurance_df.shape"
   ]
  },
  {
   "cell_type": "code",
   "execution_count": 19,
   "id": "5c18ccd4",
   "metadata": {},
   "outputs": [
    {
     "data": {
      "image/png": "[encoded data removed]",
      "text/plain": [
       "<Figure size 432x288 with 1 Axes>"
      ]
     },
     "metadata": {
      "needs_background": "light"
     },
     "output_type": "display_data"
    }
   ],
   "source": [
    "plot.scatter(insurance_df.claims, insurance_df.payment)\n",
    "plot.xlabel('claims')\n",
    "plot.ylabel('payment[100k Kroner]')\n",
    "plot.show()"
   ]
  },
  {
   "cell_type": "code",
   "execution_count": 16,
   "id": "7708ceda",
   "metadata": {},
   "outputs": [],
   "source": [
    "y_insurance = insurance_df.payment\n",
    "x_insurance = stats.add_constant(insurance_df['claims'])"
   ]
  },
  {
   "cell_type": "code",
   "execution_count": 20,
   "id": "284dbb30",
   "metadata": {},
   "outputs": [],
   "source": [
    "model_insurance =stats.OLS(y_insurance, x_insurance)\n",
    "results_insurance = model_insurance.fit()"
   ]
  },
  {
   "cell_type": "code",
   "execution_count": 22,
   "id": "5a14b959",
   "metadata": {},
   "outputs": [
    {
     "name": "stdout",
     "output_type": "stream",
     "text": [
      "                            OLS Regression Results                            \n",
      "==============================================================================\n",
      "Dep. Variable:                payment   R-squared:                       0.833\n",
      "Model:                            OLS   Adj. R-squared:                  0.831\n",
      "Method:                 Least Squares   F-statistic:                     305.0\n",
      "Date:                Fri, 01 Sep 2023   Prob (F-statistic):           2.05e-25\n",
      "Time:                        08:29:11   Log-Likelihood:                -314.04\n",
      "No. Observations:                  63   AIC:                             632.1\n",
      "Df Residuals:                      61   BIC:                             636.4\n",
      "Df Model:                           1                                         \n",
      "Covariance Type:            nonrobust                                         \n",
      "==============================================================================\n",
      "                 coef    std err          t      P>|t|      [0.025      0.975]\n",
      "------------------------------------------------------------------------------\n",
      "const         19.9945      6.368      3.140      0.003       7.261      32.728\n",
      "claims         3.4138      0.195     17.465      0.000       3.023       3.805\n",
      "==============================================================================\n",
      "Omnibus:                        1.613   Durbin-Watson:                   1.199\n",
      "Prob(Omnibus):                  0.446   Jarque-Bera (JB):                1.429\n",
      "Skew:                           0.364   Prob(JB):                        0.489\n",
      "Kurtosis:                       2.875   Cond. No.                         45.8\n",
      "==============================================================================\n",
      "\n",
      "Notes:\n",
      "[1] Standard Errors assume that the covariance matrix of the errors is correctly specified.\n"
     ]
    }
   ],
   "source": [
    "print(results_insurance.summary())"
   ]
  },
  {
   "cell_type": "code",
   "execution_count": 29,
   "id": "d7e12215",
   "metadata": {},
   "outputs": [],
   "source": [
    "intercept_insurance = results_insurance.params[0]\n",
    "claims_coeff=results_insurance.params[1]\n",
    "ssr_insurance = results_insurance.ssr"
   ]
  },
  {
   "cell_type": "code",
   "execution_count": null,
   "id": "ae6bdf9d",
   "metadata": {},
   "outputs": [],
   "source": [
    "#plotting results"
   ]
  },
  {
   "cell_type": "code",
   "execution_count": 31,
   "id": "3ba24258",
   "metadata": {},
   "outputs": [
    {
     "data": {
      "image/png": "[encoded data removed]",
      "text/plain": [
       "<Figure size 432x288 with 1 Axes>"
      ]
     },
     "metadata": {
      "needs_background": "light"
     },
     "output_type": "display_data"
    }
   ],
   "source": [
    "#prep training obs.\n",
    "\n",
    "plot.scatter(insurance_df.claims, insurance_df.payment, label='Observed')\n",
    "\n",
    "#prep line of best fit\n",
    "x_synthetic =np.linspace(0,insurance_df.claims.max(),50)\n",
    "y_pred_insurance= claims_coeff*x_synthetic+intercept_insurance\n",
    "plot.plot(x_synthetic, y_pred_insurance, color='k', ls='--', label='Model')\n",
    "\n",
    "#plot combined chart\n",
    "plot.xlabel('claims')\n",
    "plot.ylabel('payment[100k Kroner]')\n",
    "plot.legend()\n",
    "plot.show()"
   ]
  },
  {
   "cell_type": "code",
   "execution_count": null,
   "id": "c76f3dda",
   "metadata": {},
   "outputs": [],
   "source": []
  },
  {
   "cell_type": "raw",
   "id": "f22fe715",
   "metadata": {},
   "source": []
  }
 ],
 "metadata": {
  "kernelspec": {
   "display_name": "Python 3",
   "language": "python",
   "name": "python3"
  },
  "language_info": {
   "codemirror_mode": {
    "name": "ipython",
    "version": 3
   },
   "file_extension": ".py",
   "mimetype": "text/x-python",
   "name": "python",
   "nbconvert_exporter": "python",
   "pygments_lexer": "ipython3",
   "version": "3.8.8"
  }
 },
 "nbformat": 4,
 "nbformat_minor": 5
}
