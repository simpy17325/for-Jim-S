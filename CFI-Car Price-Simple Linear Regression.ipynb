{
 "cells": [
  {
   "cell_type": "code",
   "execution_count": 2,
   "id": "b4cc23c1",
   "metadata": {},
   "outputs": [],
   "source": [
    "import pandas as pd\n",
    "import matplotlib.pyplot as plot\n",
    "import statsmodels.api as stats\n",
    "import numpy as np\n"
   ]
  },
  {
   "cell_type": "code",
   "execution_count": 11,
   "id": "d6c6065e",
   "metadata": {},
   "outputs": [],
   "source": [
    "carprice_df =pd.read_csv(r\"C:\\Users\\dnsim\\OneDrive\\Documents\\CarPrice.csv\")\n"
   ]
  },
  {
   "cell_type": "code",
   "execution_count": null,
   "id": "2d7941c0",
   "metadata": {},
   "outputs": [],
   "source": []
  },
  {
   "cell_type": "code",
   "execution_count": 12,
   "id": "666a5179",
   "metadata": {},
   "outputs": [
    {
     "data": {
      "text/plain": [
       "(205, 26)"
      ]
     },
     "execution_count": 12,
     "metadata": {},
     "output_type": "execute_result"
    }
   ],
   "source": [
    "carprice_df.shape"
   ]
  },
  {
   "cell_type": "code",
   "execution_count": 13,
   "id": "7119f088",
   "metadata": {},
   "outputs": [
    {
     "data": {
      "text/plain": [
       "<bound method NDFrame.head of      car_ID  symboling                   CarName fueltype aspiration  \\\n",
       "0         1          3        alfa-romero giulia      gas        std   \n",
       "1         2          3       alfa-romero stelvio      gas        std   \n",
       "2         3          1  alfa-romero Quadrifoglio      gas        std   \n",
       "3         4          2               audi 100 ls      gas        std   \n",
       "4         5          2                audi 100ls      gas        std   \n",
       "..      ...        ...                       ...      ...        ...   \n",
       "200     201         -1           volvo 145e (sw)      gas        std   \n",
       "201     202         -1               volvo 144ea      gas      turbo   \n",
       "202     203         -1               volvo 244dl      gas        std   \n",
       "203     204         -1                 volvo 246   diesel      turbo   \n",
       "204     205         -1               volvo 264gl      gas      turbo   \n",
       "\n",
       "    doornumber      carbody drivewheel enginelocation  wheelbase  ...  \\\n",
       "0          two  convertible        rwd          front       88.6  ...   \n",
       "1          two  convertible        rwd          front       88.6  ...   \n",
       "2          two    hatchback        rwd          front       94.5  ...   \n",
       "3         four        sedan        fwd          front       99.8  ...   \n",
       "4         four        sedan        4wd          front       99.4  ...   \n",
       "..         ...          ...        ...            ...        ...  ...   \n",
       "200       four        sedan        rwd          front      109.1  ...   \n",
       "201       four        sedan        rwd          front      109.1  ...   \n",
       "202       four        sedan        rwd          front      109.1  ...   \n",
       "203       four        sedan        rwd          front      109.1  ...   \n",
       "204       four        sedan        rwd          front      109.1  ...   \n",
       "\n",
       "     enginesize  fuelsystem  boreratio  stroke compressionratio horsepower  \\\n",
       "0           130        mpfi       3.47    2.68              9.0        111   \n",
       "1           130        mpfi       3.47    2.68              9.0        111   \n",
       "2           152        mpfi       2.68    3.47              9.0        154   \n",
       "3           109        mpfi       3.19    3.40             10.0        102   \n",
       "4           136        mpfi       3.19    3.40              8.0        115   \n",
       "..          ...         ...        ...     ...              ...        ...   \n",
       "200         141        mpfi       3.78    3.15              9.5        114   \n",
       "201         141        mpfi       3.78    3.15              8.7        160   \n",
       "202         173        mpfi       3.58    2.87              8.8        134   \n",
       "203         145         idi       3.01    3.40             23.0        106   \n",
       "204         141        mpfi       3.78    3.15              9.5        114   \n",
       "\n",
       "     peakrpm citympg  highwaympg    price  \n",
       "0       5000      21          27  13495.0  \n",
       "1       5000      21          27  16500.0  \n",
       "2       5000      19          26  16500.0  \n",
       "3       5500      24          30  13950.0  \n",
       "4       5500      18          22  17450.0  \n",
       "..       ...     ...         ...      ...  \n",
       "200     5400      23          28  16845.0  \n",
       "201     5300      19          25  19045.0  \n",
       "202     5500      18          23  21485.0  \n",
       "203     4800      26          27  22470.0  \n",
       "204     5400      19          25  22625.0  \n",
       "\n",
       "[205 rows x 26 columns]>"
      ]
     },
     "execution_count": 13,
     "metadata": {},
     "output_type": "execute_result"
    }
   ],
   "source": [
    "carprice_df.head"
   ]
  },
  {
   "cell_type": "code",
   "execution_count": 14,
   "id": "46e16945",
   "metadata": {},
   "outputs": [],
   "source": [
    "train_df = carprice_df.sample(frac=0.7,random_state=99)\n",
    "test_df=carprice_df.drop(train_df.index)"
   ]
  },
  {
   "cell_type": "code",
   "execution_count": 15,
   "id": "54f78861",
   "metadata": {},
   "outputs": [
    {
     "data": {
      "text/plain": [
       "(144, 26)"
      ]
     },
     "execution_count": 15,
     "metadata": {},
     "output_type": "execute_result"
    }
   ],
   "source": [
    "train_df.shape"
   ]
  },
  {
   "cell_type": "code",
   "execution_count": 16,
   "id": "a211d5d2",
   "metadata": {},
   "outputs": [
    {
     "data": {
      "text/plain": [
       "(61, 26)"
      ]
     },
     "execution_count": 16,
     "metadata": {},
     "output_type": "execute_result"
    }
   ],
   "source": [
    "test_df.shape"
   ]
  },
  {
   "cell_type": "code",
   "execution_count": 18,
   "id": "5dc6484f",
   "metadata": {},
   "outputs": [
    {
     "data": {
      "image/png": "[encoded data removed]",
      "text/plain": [
       "<Figure size 432x288 with 1 Axes>"
      ]
     },
     "metadata": {
      "needs_background": "light"
     },
     "output_type": "display_data"
    }
   ],
   "source": [
    "plot.scatter(train_df.enginesize, train_df.price)\n",
    "plot.xlabel('Engine Size')\n",
    "plot.ylabel('Price')\n",
    "plot.show()\n"
   ]
  },
  {
   "cell_type": "code",
   "execution_count": 27,
   "id": "96533008",
   "metadata": {},
   "outputs": [],
   "source": [
    "y_train = train_df.price\n",
    "x_train = stats.add_constant(train_df['enginesize'])\n"
   ]
  },
  {
   "cell_type": "code",
   "execution_count": 28,
   "id": "4c07b2c6",
   "metadata": {},
   "outputs": [],
   "source": [
    "model_train = stats.OLS(y_train, x_train)\n",
    "results_train =model_train.fit()\n"
   ]
  },
  {
   "cell_type": "code",
   "execution_count": 29,
   "id": "07c711e0",
   "metadata": {},
   "outputs": [
    {
     "name": "stdout",
     "output_type": "stream",
     "text": [
      "                            OLS Regression Results                            \n",
      "==============================================================================\n",
      "Dep. Variable:                  price   R-squared:                       0.752\n",
      "Model:                            OLS   Adj. R-squared:                  0.751\n",
      "Method:                 Least Squares   F-statistic:                     431.6\n",
      "Date:                Mon, 15 May 2023   Prob (F-statistic):           6.87e-45\n",
      "Time:                        22:52:21   Log-Likelihood:                -1399.1\n",
      "No. Observations:                 144   AIC:                             2802.\n",
      "Df Residuals:                     142   BIC:                             2808.\n",
      "Df Model:                           1                                         \n",
      "Covariance Type:            nonrobust                                         \n",
      "==============================================================================\n",
      "                 coef    std err          t      P>|t|      [0.025      0.975]\n",
      "------------------------------------------------------------------------------\n",
      "const      -7969.4448   1068.536     -7.458      0.000   -1.01e+04   -5857.151\n",
      "enginesize   167.6000      8.067     20.775      0.000     151.652     183.548\n",
      "==============================================================================\n",
      "Omnibus:                       19.591   Durbin-Watson:                   1.992\n",
      "Prob(Omnibus):                  0.000   Jarque-Bera (JB):               27.743\n",
      "Skew:                           0.742   Prob(JB):                     9.45e-07\n",
      "Kurtosis:                       4.557   Cond. No.                         420.\n",
      "==============================================================================\n",
      "\n",
      "Notes:\n",
      "[1] Standard Errors assume that the covariance matrix of the errors is correctly specified.\n"
     ]
    }
   ],
   "source": [
    "print(results_train.summary())"
   ]
  },
  {
   "cell_type": "code",
   "execution_count": 31,
   "id": "3d62f9f8",
   "metadata": {},
   "outputs": [
    {
     "name": "stdout",
     "output_type": "stream",
     "text": [
      "the intercept value is -7969.444844072859\n",
      "The coefficient(slope) is 167.59997925785822\n",
      "The sum of square residuals is: 2319259109.3187456\n"
     ]
    }
   ],
   "source": [
    "intercept_train = results_train.params[0]\n",
    "experience_coeff = results_train.params[1]\n",
    "ssr_train = results_train.ssr\n",
    "\n",
    "print('the intercept value is',intercept_train )\n",
    "print('The coefficient(slope) is', experience_coeff)\n",
    "print('The sum of square residuals is:', ssr_train)\n"
   ]
  },
  {
   "cell_type": "code",
   "execution_count": 41,
   "id": "35311c3e",
   "metadata": {},
   "outputs": [
    {
     "data": {
      "image/png": "[encoded data removed]",
      "text/plain": [
       "<Figure size 432x288 with 1 Axes>"
      ]
     },
     "metadata": {
      "needs_background": "light"
     },
     "output_type": "display_data"
    }
   ],
   "source": [
    "#observations\n",
    "\n",
    "plot.scatter(train_df.enginesize, train_df.price, label ='Observed')\n",
    "# Line of best fit\n",
    "x_synthetic = np.linspace(0,train_df.enginesize.max(),50)\n",
    "y_pred_carprice =x_synthetic * experience_coeff +intercept_carprice\n",
    "plot.plot(x_synthetic, y_pred_carprice, color = 'k', ls='--', label ='Model')\n",
    "\n",
    "#plot the chart\n",
    "plot.xlabel('price')\n",
    "plot.ylabel('enginesize')\n",
    "plot.legend()\n",
    "plot.show()\n"
   ]
  },
  {
   "cell_type": "code",
   "execution_count": 45,
   "id": "acdd2172",
   "metadata": {},
   "outputs": [],
   "source": [
    "\n",
    "y_test = test_df.price\n",
    "x_test = stats.add_constant(test_df['enginesize'])\n"
   ]
  },
  {
   "cell_type": "code",
   "execution_count": 46,
   "id": "590cc7a4",
   "metadata": {},
   "outputs": [],
   "source": [
    "test_pred = results_carprice.predict(x_test)"
   ]
  },
  {
   "cell_type": "code",
   "execution_count": 48,
   "id": "88398605",
   "metadata": {},
   "outputs": [
    {
     "data": {
      "image/png": "[encoded data removed]",
      "text/plain": [
       "<Figure size 432x288 with 1 Axes>"
      ]
     },
     "metadata": {
      "needs_background": "light"
     },
     "output_type": "display_data"
    }
   ],
   "source": [
    "plot.scatter(test_pred,y_test)\n",
    "plot.plot([5000,50000],[5000,50000], c='k', ls='--')\n",
    "plot.xlabel('pred price')\n",
    "plot.ylabel('oberved price')\n",
    "plot.show()"
   ]
  }
 ],
 "metadata": {
  "kernelspec": {
   "display_name": "Python 3",
   "language": "python",
   "name": "python3"
  },
  "language_info": {
   "codemirror_mode": {
    "name": "ipython",
    "version": 3
   },
   "file_extension": ".py",
   "mimetype": "text/x-python",
   "name": "python",
   "nbconvert_exporter": "python",
   "pygments_lexer": "ipython3",
   "version": "3.8.8"
  }
 },
 "nbformat": 4,
 "nbformat_minor": 5
}
